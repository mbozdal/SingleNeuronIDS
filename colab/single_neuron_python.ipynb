{
  "cells": [
    {
      "cell_type": "markdown",
      "metadata": {
        "id": "view-in-github",
        "colab_type": "text"
      },
      "source": [
        "<a href=\"https://colab.research.google.com/github/mbozdal/SingleNeuronIDS/blob/main/colab/single_neuron_python.ipynb\" target=\"_parent\"><img src=\"https://colab.research.google.com/assets/colab-badge.svg\" alt=\"Open In Colab\"/></a>"
      ]
    },
    {
      "cell_type": "code",
      "source": [
        "!pip install mat73\n",
        "!pip install --upgrade gspread"
      ],
      "metadata": {
        "colab": {
          "base_uri": "https://localhost:8080/"
        },
        "id": "_bVKfNhkUfYG",
        "outputId": "2b224d92-69cf-42f2-f3c0-f3657ef9e49f"
      },
      "execution_count": null,
      "outputs": [
        {
          "output_type": "stream",
          "name": "stdout",
          "text": [
            "Looking in indexes: https://pypi.org/simple, https://us-python.pkg.dev/colab-wheels/public/simple/\n",
            "Collecting mat73\n",
            "  Downloading mat73-0.59-py3-none-any.whl (19 kB)\n",
            "Requirement already satisfied: numpy in /usr/local/lib/python3.7/dist-packages (from mat73) (1.21.6)\n",
            "Requirement already satisfied: h5py in /usr/local/lib/python3.7/dist-packages (from mat73) (3.1.0)\n",
            "Requirement already satisfied: cached-property in /usr/local/lib/python3.7/dist-packages (from h5py->mat73) (1.5.2)\n",
            "Installing collected packages: mat73\n",
            "Successfully installed mat73-0.59\n",
            "Looking in indexes: https://pypi.org/simple, https://us-python.pkg.dev/colab-wheels/public/simple/\n",
            "Requirement already satisfied: gspread in /usr/local/lib/python3.7/dist-packages (3.4.2)\n",
            "Collecting gspread\n",
            "  Downloading gspread-5.4.0-py3-none-any.whl (37 kB)\n",
            "Requirement already satisfied: google-auth-oauthlib>=0.4.1 in /usr/local/lib/python3.7/dist-packages (from gspread) (0.4.6)\n",
            "Requirement already satisfied: google-auth>=1.12.0 in /usr/local/lib/python3.7/dist-packages (from gspread) (1.35.0)\n",
            "Requirement already satisfied: setuptools>=40.3.0 in /usr/local/lib/python3.7/dist-packages (from google-auth>=1.12.0->gspread) (57.4.0)\n",
            "Requirement already satisfied: rsa<5,>=3.1.4 in /usr/local/lib/python3.7/dist-packages (from google-auth>=1.12.0->gspread) (4.9)\n",
            "Requirement already satisfied: six>=1.9.0 in /usr/local/lib/python3.7/dist-packages (from google-auth>=1.12.0->gspread) (1.15.0)\n",
            "Requirement already satisfied: pyasn1-modules>=0.2.1 in /usr/local/lib/python3.7/dist-packages (from google-auth>=1.12.0->gspread) (0.2.8)\n",
            "Requirement already satisfied: cachetools<5.0,>=2.0.0 in /usr/local/lib/python3.7/dist-packages (from google-auth>=1.12.0->gspread) (4.2.4)\n",
            "Requirement already satisfied: requests-oauthlib>=0.7.0 in /usr/local/lib/python3.7/dist-packages (from google-auth-oauthlib>=0.4.1->gspread) (1.3.1)\n",
            "Requirement already satisfied: pyasn1<0.5.0,>=0.4.6 in /usr/local/lib/python3.7/dist-packages (from pyasn1-modules>=0.2.1->google-auth>=1.12.0->gspread) (0.4.8)\n",
            "Requirement already satisfied: oauthlib>=3.0.0 in /usr/local/lib/python3.7/dist-packages (from requests-oauthlib>=0.7.0->google-auth-oauthlib>=0.4.1->gspread) (3.2.0)\n",
            "Requirement already satisfied: requests>=2.0.0 in /usr/local/lib/python3.7/dist-packages (from requests-oauthlib>=0.7.0->google-auth-oauthlib>=0.4.1->gspread) (2.23.0)\n",
            "Requirement already satisfied: certifi>=2017.4.17 in /usr/local/lib/python3.7/dist-packages (from requests>=2.0.0->requests-oauthlib>=0.7.0->google-auth-oauthlib>=0.4.1->gspread) (2022.6.15)\n",
            "Requirement already satisfied: chardet<4,>=3.0.2 in /usr/local/lib/python3.7/dist-packages (from requests>=2.0.0->requests-oauthlib>=0.7.0->google-auth-oauthlib>=0.4.1->gspread) (3.0.4)\n",
            "Requirement already satisfied: urllib3!=1.25.0,!=1.25.1,<1.26,>=1.21.1 in /usr/local/lib/python3.7/dist-packages (from requests>=2.0.0->requests-oauthlib>=0.7.0->google-auth-oauthlib>=0.4.1->gspread) (1.24.3)\n",
            "Requirement already satisfied: idna<3,>=2.5 in /usr/local/lib/python3.7/dist-packages (from requests>=2.0.0->requests-oauthlib>=0.7.0->google-auth-oauthlib>=0.4.1->gspread) (2.10)\n",
            "Installing collected packages: gspread\n",
            "  Attempting uninstall: gspread\n",
            "    Found existing installation: gspread 3.4.2\n",
            "    Uninstalling gspread-3.4.2:\n",
            "      Successfully uninstalled gspread-3.4.2\n",
            "Successfully installed gspread-5.4.0\n"
          ]
        }
      ]
    },
    {
      "cell_type": "code",
      "execution_count": null,
      "metadata": {
        "id": "v_CftQQvJ5mN"
      },
      "outputs": [],
      "source": [
        "from google.colab import drive\n",
        "\n",
        "drive.mount('/content/drive')\n",
        "\n"
      ]
    },
    {
      "cell_type": "code",
      "source": [
        "!lscpu |grep 'Model name'"
      ],
      "metadata": {
        "id": "iFWEW8psUUC8"
      },
      "execution_count": null,
      "outputs": []
    },
    {
      "cell_type": "code",
      "execution_count": null,
      "metadata": {
        "id": "FVShZUCXpncZ"
      },
      "outputs": [],
      "source": [
        "!nvidia-smi"
      ]
    },
    {
      "cell_type": "code",
      "execution_count": null,
      "metadata": {
        "id": "-8PXe5xZKMRz"
      },
      "outputs": [],
      "source": [
        "!ls \"/content/drive/My Drive/Ali AI IDS/matlab/ftrain\""
      ]
    },
    {
      "cell_type": "code",
      "source": [
        "from sklearn.metrics import confusion_matrix\n",
        "from gspread import worksheet\n",
        "from google.colab import auth\n",
        "import gspread\n",
        "from google.auth import default\n",
        "\n",
        "#obtain results for the attack data then write results to the excel file.\n",
        "#model=model type, index=index of CAN id, attackType=page index just writing to the excel file.\n",
        "def model_results(model,index,attackType):\n",
        " \n",
        "    x =  tf.round(model.predict(X_test))\n",
        "\n",
        "    acc = tf.keras.metrics.Accuracy()\n",
        "    acc.update_state(y_test, x)\n",
        "  \n",
        "    pre = tf.keras.metrics.Precision()\n",
        "    pre.update_state(y_test, x)\n",
        "\n",
        "    recall = tf.keras.metrics.Recall()\n",
        "    recall.update_state(y_test, x)\n",
        " \n",
        "\n",
        "    fp = tf.keras.metrics.FalsePositives()\n",
        "    fn = tf.keras.metrics.FalseNegatives()\n",
        "    tp = tf.keras.metrics.TruePositives()\n",
        "    tn = tf.keras.metrics.TrueNegatives()\n",
        "    fp.update_state(y_test, x)\n",
        "    fn.update_state(y_test, x)\n",
        "    tp.update_state(y_test, x)\n",
        "    tn.update_state(y_test, x)\n",
        "\n",
        "  #  print(f\"{data_name}\\t{fp.result().numpy()}\\t{fn.result().numpy()}\\t{tp.result().numpy()}\\t{tn.result().numpy()}\\n\") \n",
        "   \n",
        "    auth.authenticate_user()\n",
        "\n",
        "    creds, _ = default()\n",
        "\n",
        "    gc = gspread.authorize(creds)\n",
        "    wb = gc.open_by_key('1p6LQZ3DkJgdm0_TkvLaM6Y32cOvF6cz39vRycKVNgRk')\n",
        "    \n",
        "    dataToWrite = [[data_name,str(fp.result().numpy()),str(fn.result().numpy()),str(tp.result().numpy()),str(tn.result().numpy())]]\n",
        "    \n",
        "\n",
        "    if (attackType==0):\n",
        "          ws = wb.worksheet('FuzzyAttack')\n",
        "    elif (attackType==1):\n",
        "          ws = wb.worksheet('DoS')\n",
        "    elif (attackType==2):\n",
        "          ws = wb.worksheet('Gear')\n",
        "    elif (attackType==3):\n",
        "          ws = wb.worksheet('RPM')\n",
        "  \n",
        "    rowNumber= \"A\"+str(index+1)\n",
        "    ws.update(rowNumber,dataToWrite)\n",
        "    index = index + 1"
      ],
      "metadata": {
        "id": "M6DbPcrlu9iB"
      },
      "execution_count": null,
      "outputs": []
    },
    {
      "cell_type": "code",
      "source": [],
      "metadata": {
        "id": "GWC6LmNdSK46"
      },
      "execution_count": null,
      "outputs": []
    },
    {
      "cell_type": "code",
      "source": [
        "import mat73\n",
        "import scipy.io\n",
        "import numpy as np\n",
        "from sklearn.model_selection import train_test_split\n",
        "import tensorflow as tf\n",
        "from sklearn.utils import validation\n",
        "from tensorflow.keras.optimizers import Adam\n",
        "from tensorflow.keras.layers import Dense\n",
        "from tensorflow.keras import Sequential\n",
        "\n",
        "\n",
        "for ii in range(0,26):   \n",
        "  canID = ['0002','00a0','00a1','0130','0131','0140','0153','018f','01f1','0260','02a0','02c0','0316','0329','0350','0370','0430','043f','0440','04b1','04f0','0545','05a0','05a2','05f0','0690']\n",
        "  train_batch_size = 64\n",
        "  test_batch_size = 64\n",
        "  epoch_num= 5\n",
        "  data_name = canID[ii]\n",
        "\n",
        "# Load train dataset (merged data)\n",
        "  data = mat73.loadmat('/content/drive/My Drive/Ali AI IDS/matlab/ftrain/merge_'+ canID[ii] +'_ftrain_1x8.mat')\n",
        "  \n",
        "\n",
        "  label = data['labels']\n",
        "  dataIn = data['inputMatrix']\n",
        "\n",
        "  X_train, X_test, y_train, y_test = train_test_split(dataIn, label, test_size=0.3, random_state=42, shuffle=False)\n",
        "\n",
        "\n",
        " #ANN model structure\n",
        "  tf.random.set_seed(42)\n",
        "  model_single_neuron = Sequential([Dense(1, activation=\"sigmoid\")])\n",
        "\n",
        "  model_single_neuron.compile(loss=\"binary_crossentropy\", optimizer=Adam(), metrics=[\"accuracy\"])\n",
        "  history = model_single_neuron.fit(X_train, y_train, epochs=epoch_num, batch_size=train_batch_size)\n",
        "\n",
        "\n",
        "#saved weights\n",
        "  name='Weights_'+data_name + '_' + str(epoch_num) + '_' + str(train_batch_size) + '_' +str(test_batch_size)\n",
        "  model_single_neuron.save('/content/drive/My Drive/Ali AI IDS/matlab/ftrain/weights/' + name)\n",
        "\n",
        "  dataAttackNames = ['fuzzyAttack','dosAttack','gearSpoofing','rpmSpoofing']\n",
        "\n",
        "  for attackType in range(0,4):\n",
        "    dataAttackName = dataAttackNames[attackType]\n",
        "\n",
        "    dataTest = mat73.loadmat('/content/drive/My Drive/Ali AI IDS/matlab/ftrain/'+dataAttackName+'_'+canID[ii] +'_ftrain_1x8.mat')\n",
        "    dataTestIn = dataTest['inputMatrix'] \n",
        "    dataTestLabel = dataTest['labels'] \n",
        "    X_dummy_train, X_test, y_dummy_train, y_test = train_test_split(dataTestIn, dataTestLabel, test_size=0.3, random_state=42, shuffle=False)\n",
        "\n",
        "    model_single_neuron.evaluate(X_test, y_test, batch_size=test_batch_size)\n",
        "    model_results(model_single_neuron,ii,attackType)\n",
        "\n"
      ],
      "metadata": {
        "id": "YYMANonutSdz"
      },
      "execution_count": null,
      "outputs": []
    }
  ],
  "metadata": {
    "accelerator": "GPU",
    "colab": {
      "collapsed_sections": [],
      "name": "zaman_ort_Makale_dataMerge_ANN_singleNeuron_1x8veriler.ipynb",
      "provenance": [],
      "include_colab_link": true
    },
    "kernelspec": {
      "display_name": "Python 3",
      "name": "python3"
    },
    "language_info": {
      "name": "python"
    }
  },
  "nbformat": 4,
  "nbformat_minor": 0
}