{
  "cells": [
    {
      "cell_type": "markdown",
      "metadata": {
        "id": "view-in-github",
        "colab_type": "text"
      },
      "source": [
        "<a href=\"https://colab.research.google.com/github/mbozdal/SingleNeuronIDS/blob/main/single_neuron_python.ipynb\" target=\"_parent\"><img src=\"https://colab.research.google.com/assets/colab-badge.svg\" alt=\"Open In Colab\"/></a>"
      ]
    },
    {
      "cell_type": "code",
      "source": [
        "!pip install mat73\n",
        "!pip install --upgrade gspread"
      ],
      "metadata": {
        "id": "_bVKfNhkUfYG"
      },
      "execution_count": null,
      "outputs": []
    },
    {
      "cell_type": "code",
      "execution_count": null,
      "metadata": {
        "id": "v_CftQQvJ5mN"
      },
      "outputs": [],
      "source": [
        "from google.colab import drive\n",
        "\n",
        "drive.mount('/content/drive')\n",
        "\n"
      ]
    },
    {
      "cell_type": "code",
      "source": [
        "!lscpu |grep 'Model name'"
      ],
      "metadata": {
        "id": "iFWEW8psUUC8"
      },
      "execution_count": null,
      "outputs": []
    },
    {
      "cell_type": "code",
      "execution_count": null,
      "metadata": {
        "id": "FVShZUCXpncZ"
      },
      "outputs": [],
      "source": [
        "!nvidia-smi"
      ]
    },
    {
      "cell_type": "code",
      "execution_count": null,
      "metadata": {
        "id": "-8PXe5xZKMRz"
      },
      "outputs": [],
      "source": [
        "!ls \"/content/drive/My Drive/Ali AI IDS/matlab/ftrain\""
      ]
    },
    {
      "cell_type": "code",
      "source": [
        "from sklearn.metrics import confusion_matrix\n",
        "from gspread import worksheet\n",
        "from google.colab import auth\n",
        "import gspread\n",
        "from google.auth import default\n",
        "\n",
        "#obtain results for the attack data then write results to the excel file.\n",
        "#model=model type, index=index of CAN id, attackType=page index just writing to the excel file.\n",
        "def model_results(model,index,attackType):\n",
        " \n",
        "    x =  tf.round(model.predict(X_test))\n",
        "\n",
        "    acc = tf.keras.metrics.Accuracy()\n",
        "    acc.update_state(y_test, x)\n",
        "  \n",
        "    pre = tf.keras.metrics.Precision()\n",
        "    pre.update_state(y_test, x)\n",
        "\n",
        "    recall = tf.keras.metrics.Recall()\n",
        "    recall.update_state(y_test, x)\n",
        " \n",
        "\n",
        "    fp = tf.keras.metrics.FalsePositives()\n",
        "    fn = tf.keras.metrics.FalseNegatives()\n",
        "    tp = tf.keras.metrics.TruePositives()\n",
        "    tn = tf.keras.metrics.TrueNegatives()\n",
        "    fp.update_state(y_test, x)\n",
        "    fn.update_state(y_test, x)\n",
        "    tp.update_state(y_test, x)\n",
        "    tn.update_state(y_test, x)\n",
        "\n",
        "  #  print(f\"{data_name}\\t{fp.result().numpy()}\\t{fn.result().numpy()}\\t{tp.result().numpy()}\\t{tn.result().numpy()}\\n\") \n",
        "   \n",
        "    auth.authenticate_user()\n",
        "\n",
        "    creds, _ = default()\n",
        "\n",
        "    gc = gspread.authorize(creds)\n",
        "    wb = gc.open_by_key('1p6LQZ3DkJgdm0_TkvLaM6Y32cOvF6cz39vRycKVNgRk')\n",
        "    \n",
        "    dataToWrite = [[data_name,str(fp.result().numpy()),str(fn.result().numpy()),str(tp.result().numpy()),str(tn.result().numpy())]]\n",
        "    \n",
        "\n",
        "    if (attackType==0):\n",
        "          ws = wb.worksheet('FuzzyAttack')\n",
        "    elif (attackType==1):\n",
        "          ws = wb.worksheet('DoS')\n",
        "    elif (attackType==2):\n",
        "          ws = wb.worksheet('Gear')\n",
        "    elif (attackType==3):\n",
        "          ws = wb.worksheet('RPM')\n",
        "  \n",
        "    rowNumber= \"A\"+str(index+1)\n",
        "    ws.update(rowNumber,dataToWrite)\n",
        "    index = index + 1"
      ],
      "metadata": {
        "id": "M6DbPcrlu9iB"
      },
      "execution_count": null,
      "outputs": []
    },
    {
      "cell_type": "code",
      "source": [],
      "metadata": {
        "id": "GWC6LmNdSK46"
      },
      "execution_count": null,
      "outputs": []
    },
    {
      "cell_type": "code",
      "source": [
        "import mat73\n",
        "import scipy.io\n",
        "import numpy as np\n",
        "from sklearn.model_selection import train_test_split\n",
        "import tensorflow as tf\n",
        "from sklearn.utils import validation\n",
        "from tensorflow.keras.optimizers import Adam\n",
        "from tensorflow.keras.layers import Dense\n",
        "from tensorflow.keras import Sequential\n",
        "\n",
        "\n",
        "for ii in range(0,26):   \n",
        "  canID = ['0002','00a0','00a1','0130','0131','0140','0153','018f','01f1','0260','02a0','02c0','0316','0329','0350','0370','0430','043f','0440','04b1','04f0','0545','05a0','05a2','05f0','0690']\n",
        "  train_batch_size = 64\n",
        "  test_batch_size = 64\n",
        "  epoch_num= 5\n",
        "  data_name = canID[ii]\n",
        "\n",
        "# Load train dataset (merged data)\n",
        "  data = mat73.loadmat('/content/drive/My Drive/Ali AI IDS/matlab/ftrain/merge_'+ canID[ii] +'_ftrain_1x8.mat')\n",
        "  \n",
        "\n",
        "  label = data['labels']\n",
        "  dataIn = data['inputMatrix']\n",
        "\n",
        "  X_train, X_test, y_train, y_test = train_test_split(dataIn, label, test_size=0.3, random_state=42, shuffle=False)\n",
        "\n",
        "\n",
        " #ANN model structure\n",
        "  tf.random.set_seed(42)\n",
        "  model_single_neuron = Sequential([Dense(1, activation=\"sigmoid\")])\n",
        "\n",
        "  model_single_neuron.compile(loss=\"binary_crossentropy\", optimizer=Adam(), metrics=[\"accuracy\"])\n",
        "  history = model_single_neuron.fit(X_train, y_train, epochs=epoch_num, batch_size=train_batch_size)\n",
        "\n",
        "\n",
        "#saved weights\n",
        "  name='Weights_'+data_name + '_' + str(epoch_num) + '_' + str(train_batch_size) + '_' +str(test_batch_size)\n",
        "  model_single_neuron.save('/content/drive/My Drive/Ali AI IDS/matlab/ftrain/weights/' + name)\n",
        "\n",
        "  dataAttackNames = ['fuzzyAttack','dosAttack','gearSpoofing','rpmSpoofing']\n",
        "\n",
        "  for attackType in range(0,4):\n",
        "    dataAttackName = dataAttackNames[attackType]\n",
        "\n",
        "    dataTest = mat73.loadmat('/content/drive/My Drive/Ali AI IDS/matlab/ftrain/'+dataAttackName+'_'+canID[ii] +'_ftrain_1x8.mat')\n",
        "    dataTestIn = dataTest['inputMatrix'] \n",
        "    dataTestLabel = dataTest['labels'] \n",
        "    X_dummy_train, X_test, y_dummy_train, y_test = train_test_split(dataTestIn, dataTestLabel, test_size=0.3, random_state=42, shuffle=False)\n",
        "\n",
        "    model_single_neuron.evaluate(X_test, y_test, batch_size=test_batch_size)\n",
        "    model_results(model_single_neuron,ii,attackType)\n",
        "\n"
      ],
      "metadata": {
        "id": "YYMANonutSdz"
      },
      "execution_count": null,
      "outputs": []
    }
  ],
  "metadata": {
    "accelerator": "GPU",
    "colab": {
      "collapsed_sections": [],
      "name": "single_neuron_python.ipynb",
      "provenance": [],
      "include_colab_link": true
    },
    "kernelspec": {
      "display_name": "Python 3",
      "name": "python3"
    },
    "language_info": {
      "name": "python"
    }
  },
  "nbformat": 4,
  "nbformat_minor": 0
}